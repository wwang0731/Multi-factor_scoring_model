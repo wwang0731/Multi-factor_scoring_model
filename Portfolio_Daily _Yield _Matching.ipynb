{
 "cells": [
  {
   "cell_type": "code",
   "execution_count": null,
   "metadata": {},
   "outputs": [],
   "source": [
    "## Portfolio Daily Yield Matching\n",
    "# This code is used to change to match the stock name and the corresponding yield in the two excel sheets.\n",
    "\n",
    "import pandas as pd\n",
    "# Import two tables and identify the corresponding stock position\n",
    "df1 = pd.read_excel('stock_portfolio.xlsx')\n",
    "df2 = pd.read_excel('stock_return_table.xlsx')\n",
    "date = df1.iloc[:, 0]\n",
    "date1 = df1.iloc[:, 0][1]\n",
    "\n",
    "table1 = []\n",
    "table2 = []\n",
    "for i in range(len(date)):\n",
    "    portfolio = df1.iloc[i, 1:]\n",
    "    for n in range(100): \n",
    "        stock = portfolio[n]\n",
    "        table1.append(stock)\n",
    "        daily_return = df2[stock][i] \n",
    "        table2.append(daily_return)\n",
    "\n",
    "print(table2)\n",
    "\n",
    "\n",
    "# Convert the corresponding list into a dataframe\n",
    "import pandas as pd\n",
    "\n",
    "def list_to_dataframe(data_list, num_per_row):\n",
    "    # Slice the list into chunks of length num_per_row\n",
    "    data_chunks = [data_list[i:i+num_per_row] for i in range(0, len(data_list), num_per_row)]\n",
    "\n",
    "    # Create a DataFrame using a list builder\n",
    "    df = pd.DataFrame((chunk + [None]*(num_per_row - len(chunk))) for chunk in data_chunks)\n",
    "\n",
    "    return df\n",
    "\n",
    "num_per_row = 100\n",
    "\n",
    "result_df = list_to_dataframe(table2, num_per_row)\n",
    "print(result_df)\n",
    "\n",
    "\n",
    "# output file to desktop\n",
    "import os\n",
    "import pandas as pd\n",
    "\n",
    "desktop_path = os.path.join(os.path.expanduser(\"~\"), \"Desktop\")\n",
    "output_file_name = \"return_ratio.xlsx\"\n",
    "output_file_path = os.path.join(desktop_path, output_file_name)\n",
    "\n",
    "result_df.to_excel(output_file_path, index=False)"
   ]
  }
 ],
 "metadata": {
  "kernelspec": {
   "display_name": "Python 3",
   "language": "python",
   "name": "python3"
  },
  "language_info": {
   "name": "python",
   "version": "3.11.1"
  },
  "orig_nbformat": 4
 },
 "nbformat": 4,
 "nbformat_minor": 2
}
