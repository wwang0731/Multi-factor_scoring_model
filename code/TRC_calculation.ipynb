{
 "cells": [
  {
   "cell_type": "code",
   "execution_count": null,
   "metadata": {},
   "outputs": [],
   "source": [
    "filename = \"C:\\Users\\13683\\Desktop\\TOP100.xlsx\";\n",
    "\n",
    "num_iterations = 943; % number of iterations\n",
    "num_stocks = 100;\n",
    "weights_matrix = zeros(num_stocks, num_iterations);\n",
    "\n",
    "% Iterate one by one, read 30 rows of data every other row\n",
    "for i = 1:num_iterations\n",
    "    start_row = 1 + (i - 1) * 31;\n",
    "    end_row = start_row + 29;\n",
    "    \n",
    "    data = xlsread(filename, 'Sheet2', sprintf('A%d:CZ%d', start_row, end_row))';\n",
    "\n",
    "    target_rc = 1 / num_stocks;\n",
    "\n",
    "    % Calculate the standard deviation (risk) and average return for each stock\n",
    "    risk = std(data, 0, 2); \n",
    "    mean_returns = mean(data, 2); \n",
    "\n",
    "    fun = @(weights) sum((weights .* risk / sum(weights .* risk) - target_rc).^2);\n",
    "    initial_weights = ones(num_stocks, 1) / num_stocks;\n",
    "    Aeq = ones(1, num_stocks);\n",
    "    beq = 1;\n",
    "    lb = zeros(num_stocks, 1);\n",
    "    ub = ones(num_stocks, 1);\n",
    "    options = optimoptions('fmincon', 'Algorithm', 'interior-point', 'Display', 'off');\n",
    "    weights = fmincon(fun, initial_weights, [], [], Aeq, beq, lb, ub, [], options);\n",
    "    weights_matrix(:, i) = weights;\n",
    "    disp(['current iteration count：', num2str(i)]);\n",
    "end\n",
    "weights_matrix=weights_matrix';\n"
   ]
  }
 ],
 "metadata": {
  "language_info": {
   "name": "python"
  },
  "orig_nbformat": 4
 },
 "nbformat": 4,
 "nbformat_minor": 2
}
