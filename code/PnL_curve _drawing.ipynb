{
 "cells": [
  {
   "cell_type": "code",
   "execution_count": null,
   "metadata": {},
   "outputs": [],
   "source": [
    "## PnL_curve _drawing\n",
    "\n",
    "import numpy as np\n",
    "import matplotlib.pyplot as plt\n",
    "import pandas as pd\n",
    "\n",
    "df = pd.read_excel('PnL.xlsx')\n",
    "\n",
    "# Suppose there is daily rate of return data, expressed in list form\n",
    "CSI300_return = df.iloc[i, n1] # i refers to date index, n1 refers to corresponding column\n",
    "date = df.iloc[i, n2] # n2 refers to corresponding column\n",
    "\n",
    "\n",
    "# Calculate the cumulative return for each day\n",
    "CSI300_cum_simple_returns = df.iloc[i, n3]\n",
    "strategy_cum_simple_returns = df.iloc[i, n4]\n",
    "\n",
    "# Plotting the Cumulative Yield Curve\n",
    "plt.figure(figsize=(20, 6))\n",
    "plt.plot(date, CSI300_cum_simple_returns, linestyle='-', color='b', label='benchmark')\n",
    "plt.plot(date, strategy_cum_simple_returns, linestyle='-', color='r', label='strategy')\n",
    "# range(1, len(CSI300_cum_simple_returns) + 1)\n",
    "# plt.plot(range(1, len(cum_return) + 1), cum_return, linestyle='-', color='r')\n",
    "plt.xlabel('Days')\n",
    "plt.ylabel('Cumulative Simple Returns')\n",
    "plt.title('Cumulative Simple Returns Over Time')\n",
    "plt.legend()\n",
    "plt.grid(True)\n",
    "plt.show()"
   ]
  }
 ],
 "metadata": {
  "kernelspec": {
   "display_name": "Python 3",
   "language": "python",
   "name": "python3"
  },
  "language_info": {
   "name": "python",
   "version": "3.11.1"
  },
  "orig_nbformat": 4
 },
 "nbformat": 4,
 "nbformat_minor": 2
}
